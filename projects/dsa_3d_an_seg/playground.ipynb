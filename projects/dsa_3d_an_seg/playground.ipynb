{
 "cells": [
  {
   "cell_type": "markdown",
   "metadata": {},
   "source": [
    "### 第一批数据 20190628"
   ]
  },
  {
   "cell_type": "code",
   "execution_count": 1,
   "metadata": {},
   "outputs": [
    {
     "name": "stderr",
     "output_type": "stream",
     "text": [
      "Using TensorFlow backend.\n"
     ]
    }
   ],
   "source": [
    "from main import *"
   ]
  },
  {
   "cell_type": "code",
   "execution_count": 2,
   "metadata": {},
   "outputs": [
    {
     "name": "stdout",
     "output_type": "stream",
     "text": [
      "load data from the source dir:  ['/data/maze/3D_An_Seg_20190628/01.CVAImage/', '/data/maze/3D_An_Seg_20190628/03.Aneurysms/', '/data/maze/3D_An_Seg_20190628/02.CVAVesselMask/']\n",
      "processing:  /data/maze/3D_An_Seg_20190628/03.Aneurysms/A002.P000002.T0001Aneurysms.mha\n",
      "an #:  1\n",
      "processing:  /data/maze/3D_An_Seg_20190628/03.Aneurysms/A002.P000005.T0001Aneurysms.mha\n",
      "an #:  1\n",
      "processing:  /data/maze/3D_An_Seg_20190628/03.Aneurysms/A002.P000006.T0002Aneurysms.mha\n",
      "an #:  1\n",
      "processing:  /data/maze/3D_An_Seg_20190628/03.Aneurysms/A002.P000009.T0002Aneurysms.mha\n",
      "an #:  1\n",
      "processing:  /data/maze/3D_An_Seg_20190628/03.Aneurysms/A002.P000012.T0001Aneurysms.mha\n",
      "an #:  1\n",
      "an #:  2\n",
      "processing:  /data/maze/3D_An_Seg_20190628/03.Aneurysms/A002.P000018.T0001Aneurysms.mha\n",
      "an #:  1\n",
      "processing:  /data/maze/3D_An_Seg_20190628/03.Aneurysms/A002.P000022.T0001Aneurysms.mha\n",
      "an #:  1\n",
      "processing:  /data/maze/3D_An_Seg_20190628/03.Aneurysms/A002.P000023.T0001Aneurysms.mha\n",
      "an #:  1\n",
      "an #:  2\n",
      "processing:  /data/maze/3D_An_Seg_20190628/03.Aneurysms/A002.P000024.T0003Aneurysms.mha\n",
      "an #:  1\n",
      "processing:  /data/maze/3D_An_Seg_20190628/03.Aneurysms/A002.P000033.T0001Aneurysms.mha\n",
      "an #:  1\n",
      "an #:  2\n",
      "processing:  /data/maze/3D_An_Seg_20190628/03.Aneurysms/A002.P000036.T0001Aneurysms.mha\n",
      "an #:  1\n",
      "an #:  2\n",
      "an #:  3\n",
      "processing:  /data/maze/3D_An_Seg_20190628/03.Aneurysms/A002.P000037.T0002Aneurysms.mha\n",
      "an #:  1\n",
      "processing:  /data/maze/3D_An_Seg_20190628/03.Aneurysms/A002.P000039.T0001Aneurysms.mha\n",
      "an #:  1\n",
      "an #:  2\n",
      "processing:  /data/maze/3D_An_Seg_20190628/03.Aneurysms/A002.P000045.T0001Aneurysms.mha\n",
      "an #:  1\n",
      "processing:  /data/maze/3D_An_Seg_20190628/03.Aneurysms/A002.P000046.T0001Aneurysms.mha\n",
      "an #:  1\n",
      "processing:  /data/maze/3D_An_Seg_20190628/03.Aneurysms/A002.P000048.T0001Aneurysms.mha\n",
      "an #:  1\n",
      "an #:  2\n",
      "processing:  /data/maze/3D_An_Seg_20190628/03.Aneurysms/A002.P000052.T0002Aneurysms.mha\n",
      "an #:  1\n",
      "processing:  /data/maze/3D_An_Seg_20190628/03.Aneurysms/A002.P000054.T0001Aneurysms.mha\n",
      "an #:  1\n",
      "processing:  /data/maze/3D_An_Seg_20190628/03.Aneurysms/A002.P000054.T0002Aneurysms.mha\n",
      "an #:  1\n",
      "processing:  /data/maze/3D_An_Seg_20190628/03.Aneurysms/A002.P000055.T0006Aneurysms.mha\n",
      "an #:  1\n",
      "processing:  /data/maze/3D_An_Seg_20190628/03.Aneurysms/A002.P000056.T0001Aneurysms.mha\n",
      "an #:  1\n",
      "processing:  /data/maze/3D_An_Seg_20190628/03.Aneurysms/A002.P000057.T0001Aneurysms.mha\n",
      "an #:  1\n",
      "processing:  /data/maze/3D_An_Seg_20190628/03.Aneurysms/A002.P000058.T0001Aneurysms.mha\n",
      "an #:  1\n",
      "processing:  /data/maze/3D_An_Seg_20190628/03.Aneurysms/A002.P000059.T0001Aneurysms.mha\n",
      "an #:  1\n",
      "processing:  /data/maze/3D_An_Seg_20190628/03.Aneurysms/A002.P000063.T0001Aneurysms.mha\n",
      "an #:  1\n",
      "an #:  2\n",
      "processing:  /data/maze/3D_An_Seg_20190628/03.Aneurysms/A002.P000064.T0001Aneurysms.mha\n",
      "an #:  1\n",
      "an #:  2\n",
      "processing:  /data/maze/3D_An_Seg_20190628/03.Aneurysms/A002.P000064.T0002Aneurysms.mha\n",
      "an #:  1\n",
      "processing:  /data/maze/3D_An_Seg_20190628/03.Aneurysms/A002.P000065.T0001Aneurysms.mha\n",
      "an #:  1\n",
      "processing:  /data/maze/3D_An_Seg_20190628/03.Aneurysms/A002.P000065.T0002Aneurysms.mha\n",
      "an #:  1\n",
      "an #:  2\n",
      "processing:  /data/maze/3D_An_Seg_20190628/03.Aneurysms/A002.P000066.T0002Aneurysms.mha\n",
      "an #:  1\n",
      "processing:  /data/maze/3D_An_Seg_20190628/03.Aneurysms/A002.P000067.T0002Aneurysms.mha\n",
      "an #:  1\n",
      "processing:  /data/maze/3D_An_Seg_20190628/03.Aneurysms/A002.P000068.T0001Aneurysms.mha\n",
      "an #:  1\n",
      "processing:  /data/maze/3D_An_Seg_20190628/03.Aneurysms/A002.P000069.T0003Aneurysms.mha\n",
      "an #:  1\n",
      "processing:  /data/maze/3D_An_Seg_20190628/03.Aneurysms/A002.P000072.T0001Aneurysms.mha\n",
      "an #:  1\n",
      "processing:  /data/maze/3D_An_Seg_20190628/03.Aneurysms/A002.P000073.T0001Aneurysms.mha\n",
      "an #:  1\n",
      "an #:  2\n",
      "processing:  /data/maze/3D_An_Seg_20190628/03.Aneurysms/A002.P000075.T0002Aneurysms.mha\n",
      "an #:  1\n",
      "processing:  /data/maze/3D_An_Seg_20190628/03.Aneurysms/A002.P000082.T0001Aneurysms.mha\n",
      "an #:  1\n",
      "processing:  /data/maze/3D_An_Seg_20190628/03.Aneurysms/A002.P000083.T0001Aneurysms.mha\n",
      "an #:  1\n",
      "processing:  /data/maze/3D_An_Seg_20190628/03.Aneurysms/A002.P000084.T0001Aneurysms.mha\n",
      "an #:  1\n",
      "processing:  /data/maze/3D_An_Seg_20190628/03.Aneurysms/A002.P000086.T0001Aneurysms.mha\n",
      "an #:  1\n",
      "processing:  /data/maze/3D_An_Seg_20190628/03.Aneurysms/A002.P000088.T0001Aneurysms.mha\n",
      "an #:  1\n",
      "processing:  /data/maze/3D_An_Seg_20190628/03.Aneurysms/A002.P000089.T0001Aneurysms.mha\n",
      "an #:  1\n",
      "processing:  /data/maze/3D_An_Seg_20190628/03.Aneurysms/A002.P000094.T0001Aneurysms.mha\n",
      "an #:  1\n",
      "processing:  /data/maze/3D_An_Seg_20190628/03.Aneurysms/A002.P000095.T0001Aneurysms.mha\n",
      "an #:  1\n",
      "processing:  /data/maze/3D_An_Seg_20190628/03.Aneurysms/A002.P000097.T0001Aneurysms.mha\n",
      "an #:  1\n",
      "processing:  /data/maze/3D_An_Seg_20190628/03.Aneurysms/A002.P000098.T0001Aneurysms.mha\n",
      "an #:  1\n",
      "processing:  /data/maze/3D_An_Seg_20190628/03.Aneurysms/A002.P000105.T0001Aneurysms.mha\n",
      "an #:  1\n",
      "processing:  /data/maze/3D_An_Seg_20190628/03.Aneurysms/A002.P000109.T0001Aneurysms.mha\n",
      "an #:  1\n",
      "processing:  /data/maze/3D_An_Seg_20190628/03.Aneurysms/A002.P000112.T0001Aneurysms.mha\n",
      "an #:  1\n",
      "processing:  /data/maze/3D_An_Seg_20190628/03.Aneurysms/A002.P000114.T0002Aneurysms.mha\n",
      "an #:  1\n",
      "processing:  /data/maze/3D_An_Seg_20190628/03.Aneurysms/A002.P000115.T0002Aneurysms.mha\n",
      "an #:  1\n",
      "an #:  2\n",
      "processing:  /data/maze/3D_An_Seg_20190628/03.Aneurysms/A002.P000117.T0001Aneurysms.mha\n",
      "an #:  1\n",
      "processing:  /data/maze/3D_An_Seg_20190628/03.Aneurysms/A002.P000122.T0002Aneurysms.mha\n",
      "an #:  1\n",
      "an #:  2\n",
      "processing:  /data/maze/3D_An_Seg_20190628/03.Aneurysms/A002.P000123.T0001Aneurysms.mha\n",
      "an #:  1\n",
      "processing:  /data/maze/3D_An_Seg_20190628/03.Aneurysms/A002.P000127.T0001Aneurysms.mha\n",
      "an #:  1\n",
      "processing:  /data/maze/3D_An_Seg_20190628/03.Aneurysms/A002.P000128.T0001Aneurysms.mha\n",
      "an #:  1\n",
      "processing:  /data/maze/3D_An_Seg_20190628/03.Aneurysms/A002.P000132.T0001Aneurysms.mha\n",
      "an #:  1\n",
      "processing:  /data/maze/3D_An_Seg_20190628/03.Aneurysms/A002.P000133.T0002Aneurysms.mha\n",
      "an #:  1\n",
      "processing:  /data/maze/3D_An_Seg_20190628/03.Aneurysms/A002.P000135.T0002Aneurysms.mha\n",
      "an #:  1\n",
      "processing:  /data/maze/3D_An_Seg_20190628/03.Aneurysms/A002.P000136.T0001Aneurysms.mha\n",
      "an #:  1\n",
      "processing:  /data/maze/3D_An_Seg_20190628/03.Aneurysms/A002.P000143.T0002Aneurysms.mha\n",
      "an #:  1\n",
      "processing:  /data/maze/3D_An_Seg_20190628/03.Aneurysms/A002.P000147.T0001Aneurysms.mha\n",
      "an #:  1\n",
      "processing:  /data/maze/3D_An_Seg_20190628/03.Aneurysms/A002.P000155.T0001Aneurysms.mha\n",
      "an #:  1\n",
      "processing:  /data/maze/3D_An_Seg_20190628/03.Aneurysms/A002.P000156.T0001Aneurysms.mha\n",
      "an #:  1\n",
      "an #:  2\n",
      "an #:  3\n",
      "processing:  /data/maze/3D_An_Seg_20190628/03.Aneurysms/A002.P000164.T0001Aneurysms.mha\n",
      "an #:  1\n",
      "processing:  /data/maze/3D_An_Seg_20190628/03.Aneurysms/A002.P000168.T0001Aneurysms.mha\n",
      "an #:  1\n",
      "processing:  /data/maze/3D_An_Seg_20190628/03.Aneurysms/A002.P000176.T0001Aneurysms.mha\n",
      "an #:  1\n",
      "processing:  /data/maze/3D_An_Seg_20190628/03.Aneurysms/A002.P000183.T0001Aneurysms.mha\n",
      "an #:  1\n",
      "processing:  /data/maze/3D_An_Seg_20190628/03.Aneurysms/A002.P000184.T0001Aneurysms.mha\n",
      "an #:  1\n",
      "processing:  /data/maze/3D_An_Seg_20190628/03.Aneurysms/A002.P000185.T0001Aneurysms.mha\n",
      "an #:  1\n",
      "processing:  /data/maze/3D_An_Seg_20190628/03.Aneurysms/A002.P000186.T0001Aneurysms.mha\n",
      "an #:  1\n",
      "processing:  /data/maze/3D_An_Seg_20190628/03.Aneurysms/A002.P000187.T0002Aneurysms.mha\n",
      "an #:  1\n",
      "processing:  /data/maze/3D_An_Seg_20190628/03.Aneurysms/A002.P000188.T0001Aneurysms.mha\n",
      "an #:  1\n",
      "processing:  /data/maze/3D_An_Seg_20190628/03.Aneurysms/A002.P000193.T0002Aneurysms.mha\n",
      "an #:  1\n",
      "processing:  /data/maze/3D_An_Seg_20190628/03.Aneurysms/A002.P000194.T0002Aneurysms.mha\n",
      "an #:  1\n",
      "processing:  /data/maze/3D_An_Seg_20190628/03.Aneurysms/A002.P000195.T0001Aneurysms.mha\n",
      "an #:  1\n",
      "processing:  /data/maze/3D_An_Seg_20190628/03.Aneurysms/A002.P000196.T0001Aneurysms.mha\n",
      "an #:  1\n",
      "processing:  /data/maze/3D_An_Seg_20190628/03.Aneurysms/A002.P000206.T0001Aneurysms.mha\n",
      "an #:  1\n",
      "processing:  /data/maze/3D_An_Seg_20190628/03.Aneurysms/A002.P000209.T0001Aneurysms.mha\n",
      "an #:  1\n",
      "processing:  /data/maze/3D_An_Seg_20190628/03.Aneurysms/A002.P000216.T0001Aneurysms.mha\n",
      "an #:  1\n",
      "processing:  /data/maze/3D_An_Seg_20190628/03.Aneurysms/A002.P000218.T0001Aneurysms.mha\n",
      "an #:  1\n",
      "an #:  2\n",
      "processing:  /data/maze/3D_An_Seg_20190628/03.Aneurysms/A002.P000223.T0001Aneurysms.mha\n"
     ]
    },
    {
     "name": "stdout",
     "output_type": "stream",
     "text": [
      "an #:  1\n",
      "processing:  /data/maze/3D_An_Seg_20190628/03.Aneurysms/A002.P000224.T0003Aneurysms.mha\n",
      "an #:  1\n",
      "processing:  /data/maze/3D_An_Seg_20190628/03.Aneurysms/A002.P000225.T0001Aneurysms.mha\n",
      "an #:  1\n",
      "processing:  /data/maze/3D_An_Seg_20190628/03.Aneurysms/A002.P000229.T0001Aneurysms.mha\n",
      "an #:  1\n",
      "processing:  /data/maze/3D_An_Seg_20190628/03.Aneurysms/A002.P000232.T0001Aneurysms.mha\n",
      "an #:  1\n",
      "processing:  /data/maze/3D_An_Seg_20190628/03.Aneurysms/A002.P000234.T0002Aneurysms.mha\n",
      "an #:  1\n",
      "an #:  2\n",
      "processing:  /data/maze/3D_An_Seg_20190628/03.Aneurysms/A002.P000235.T0003Aneurysms.mha\n",
      "an #:  1\n",
      "an #:  2\n",
      "processing:  /data/maze/3D_An_Seg_20190628/03.Aneurysms/A002.P000239.T0001Aneurysms.mha\n",
      "an #:  1\n",
      "an #:  2\n",
      "processing:  /data/maze/3D_An_Seg_20190628/03.Aneurysms/A002.P000242.T0002Aneurysms.mha\n",
      "an #:  1\n",
      "processing:  /data/maze/3D_An_Seg_20190628/03.Aneurysms/A002.P000243.T0001Aneurysms.mha\n",
      "an #:  1\n",
      "processing:  /data/maze/3D_An_Seg_20190628/03.Aneurysms/A002.P000244.T0003Aneurysms.mha\n",
      "an #:  1\n",
      "processing:  /data/maze/3D_An_Seg_20190628/03.Aneurysms/A002.P000246.T0001Aneurysms.mha\n",
      "an #:  1\n",
      "processing:  /data/maze/3D_An_Seg_20190628/03.Aneurysms/A002.P000248.T0001Aneurysms.mha\n",
      "an #:  1\n",
      "processing:  /data/maze/3D_An_Seg_20190628/03.Aneurysms/A002.P000254.T0001Aneurysms.mha\n",
      "an #:  1\n",
      "processing:  /data/maze/3D_An_Seg_20190628/03.Aneurysms/A002.P000258.T0002Aneurysms.mha\n",
      "an #:  1\n",
      "processing:  /data/maze/3D_An_Seg_20190628/03.Aneurysms/A002.P000259.T0001Aneurysms.mha\n",
      "an #:  1\n",
      "processing:  /data/maze/3D_An_Seg_20190628/03.Aneurysms/A002.P000262.T0001Aneurysms.mha\n",
      "an #:  1\n",
      "processing:  /data/maze/3D_An_Seg_20190628/03.Aneurysms/A002.P000264.T0001Aneurysms.mha\n",
      "an #:  1\n",
      "processing:  /data/maze/3D_An_Seg_20190628/03.Aneurysms/A002.P000265.T0005Aneurysms.mha\n",
      "an #:  1\n",
      "processing:  /data/maze/3D_An_Seg_20190628/03.Aneurysms/A002.P000266.T0001Aneurysms.mha\n",
      "an #:  1\n",
      "processing:  /data/maze/3D_An_Seg_20190628/03.Aneurysms/A002.P000267.T0005Aneurysms.mha\n",
      "an #:  1\n",
      "processing:  /data/maze/3D_An_Seg_20190628/03.Aneurysms/A002.P000268.T0001Aneurysms.mha\n",
      "an #:  1\n",
      "processing:  /data/maze/3D_An_Seg_20190628/03.Aneurysms/A002.P000268.T0002Aneurysms.mha\n",
      "an #:  1\n",
      "processing:  /data/maze/3D_An_Seg_20190628/03.Aneurysms/A002.P000269.T0001Aneurysms.mha\n",
      "an #:  1\n",
      "processing:  /data/maze/3D_An_Seg_20190628/03.Aneurysms/A002.P000274.T0001Aneurysms.mha\n",
      "an #:  1\n",
      "processing:  /data/maze/3D_An_Seg_20190628/03.Aneurysms/A002.P000275.T0001Aneurysms.mha\n",
      "an #:  1\n",
      "processing:  /data/maze/3D_An_Seg_20190628/03.Aneurysms/A002.P000275.T0002Aneurysms.mha\n",
      "an #:  1\n",
      "processing:  /data/maze/3D_An_Seg_20190628/03.Aneurysms/A002.P000276.T0001Aneurysms.mha\n",
      "an #:  1\n",
      "processing:  /data/maze/3D_An_Seg_20190628/03.Aneurysms/A002.P000277.T0001Aneurysms.mha\n",
      "an #:  1\n",
      "processing:  /data/maze/3D_An_Seg_20190628/03.Aneurysms/A002.P000278.T0001Aneurysms.mha\n",
      "an #:  1\n",
      "processing:  /data/maze/3D_An_Seg_20190628/03.Aneurysms/A002.P000282.T0001Aneurysms.mha\n",
      "an #:  1\n",
      "processing:  /data/maze/3D_An_Seg_20190628/03.Aneurysms/A002.P000285.T0001Aneurysms.mha\n",
      "an #:  1\n",
      "processing:  /data/maze/3D_An_Seg_20190628/03.Aneurysms/A002.P000289.T0002Aneurysms.mha\n",
      "an #:  1\n",
      "processing:  /data/maze/3D_An_Seg_20190628/03.Aneurysms/A002.P000293.T0001Aneurysms.mha\n",
      "an #:  1\n",
      "processing:  /data/maze/3D_An_Seg_20190628/03.Aneurysms/A002.P000297.T0002Aneurysms.mha\n",
      "an #:  1\n",
      "an #:  2\n",
      "processing:  /data/maze/3D_An_Seg_20190628/03.Aneurysms/A002.P000299.T0001Aneurysms.mha\n",
      "an #:  1\n",
      "processing:  /data/maze/3D_An_Seg_20190628/03.Aneurysms/A002.P000304.T0001Aneurysms.mha\n",
      "an #:  1\n",
      "processing:  /data/maze/3D_An_Seg_20190628/03.Aneurysms/A002.P000315.T0002Aneurysms.mha\n",
      "an #:  1\n",
      "processing:  /data/maze/3D_An_Seg_20190628/03.Aneurysms/A002.P000315.T0003Aneurysms.mha\n",
      "an #:  1\n",
      "processing:  /data/maze/3D_An_Seg_20190628/03.Aneurysms/A002.P000319.T0001Aneurysms.mha\n",
      "an #:  1\n",
      "processing:  /data/maze/3D_An_Seg_20190628/03.Aneurysms/A002.P000323.T0001Aneurysms.mha\n",
      "an #:  1\n",
      "processing:  /data/maze/3D_An_Seg_20190628/03.Aneurysms/A002.P000326.T0001Aneurysms.mha\n",
      "an #:  1\n",
      "processing:  /data/maze/3D_An_Seg_20190628/03.Aneurysms/A002.P000328.T0001Aneurysms.mha\n",
      "an #:  1\n",
      "processing:  /data/maze/3D_An_Seg_20190628/03.Aneurysms/A002.P000338.T0004Aneurysms.mha\n",
      "an #:  1\n",
      "processing:  /data/maze/3D_An_Seg_20190628/03.Aneurysms/A002.P000353.T0001Aneurysms.mha\n",
      "an #:  1\n",
      "processing:  /data/maze/3D_An_Seg_20190628/03.Aneurysms/A002.P000367.T0001Aneurysms.mha\n",
      "an #:  1\n",
      "processing:  /data/maze/3D_An_Seg_20190628/03.Aneurysms/A002.P000368.T0001Aneurysms.mha\n",
      "an #:  1\n",
      "processing:  /data/maze/3D_An_Seg_20190628/03.Aneurysms/A002.P000375.T0001Aneurysms.mha\n",
      "an #:  1\n",
      "processing:  /data/maze/3D_An_Seg_20190628/03.Aneurysms/A002.P000376.T0001Aneurysms.mha\n",
      "an #:  1\n",
      "processing:  /data/maze/3D_An_Seg_20190628/03.Aneurysms/A002.P000405.T0001Aneurysms.mha\n",
      "an #:  1\n",
      "processing:  /data/maze/3D_An_Seg_20190628/03.Aneurysms/A002.P000416.T0001Aneurysms.mha\n",
      "an #:  1\n",
      "processing:  /data/maze/3D_An_Seg_20190628/03.Aneurysms/A002.P000427.T0001Aneurysms.mha\n",
      "an #:  1\n",
      "processing:  /data/maze/3D_An_Seg_20190628/03.Aneurysms/A002.P000435.T0001Aneurysms.mha\n",
      "an #:  1\n",
      "an #:  2\n",
      "an #:  3\n",
      "an #:  4\n",
      "processing:  /data/maze/3D_An_Seg_20190628/03.Aneurysms/A002.P000454.T0002Aneurysms.mha\n",
      "an #:  1\n",
      "an #:  2\n",
      "processing:  /data/maze/3D_An_Seg_20190628/03.Aneurysms/A002.P000463.T0002Aneurysms.mha\n",
      "an #:  1\n",
      "an #:  2\n",
      "processing:  /data/maze/3D_An_Seg_20190628/03.Aneurysms/A002.P000473.T0001Aneurysms.mha\n",
      "an #:  1\n",
      "processing:  /data/maze/3D_An_Seg_20190628/03.Aneurysms/A002.P000477.T0001Aneurysms.mha\n",
      "an #:  1\n",
      "processing:  /data/maze/3D_An_Seg_20190628/03.Aneurysms/A002.P000538.T0001Aneurysms.mha\n",
      "an #:  1\n",
      "processing:  /data/maze/3D_An_Seg_20190628/03.Aneurysms/A002.P000539.T0001Aneurysms.mha\n",
      "an #:  1\n",
      "processing:  /data/maze/3D_An_Seg_20190628/03.Aneurysms/A002.P000564.T0001Aneurysms.mha\n",
      "an #:  1\n",
      "processing:  /data/maze/3D_An_Seg_20190628/03.Aneurysms/A002.P000564.T0002Aneurysms.mha\n",
      "an #:  1\n",
      "an #:  2\n",
      "processing:  /data/maze/3D_An_Seg_20190628/03.Aneurysms/A002.P000568.T0001Aneurysms.mha\n",
      "an #:  1\n",
      "processing:  /data/maze/3D_An_Seg_20190628/03.Aneurysms/A002.P000579.T0001Aneurysms.mha\n",
      "an #:  1\n",
      "processing:  /data/maze/3D_An_Seg_20190628/03.Aneurysms/A002.P000596.T0001Aneurysms.mha\n",
      "an #:  1\n",
      "processing:  /data/maze/3D_An_Seg_20190628/03.Aneurysms/A002.P000604.T0001Aneurysms.mha\n",
      "an #:  1\n",
      "processing:  /data/maze/3D_An_Seg_20190628/03.Aneurysms/A002.P000613.T0002Aneurysms.mha\n",
      "an #:  1\n",
      "processing:  /data/maze/3D_An_Seg_20190628/03.Aneurysms/A002.P000659.T0001Aneurysms.mha\n",
      "an #:  1\n",
      "processing:  /data/maze/3D_An_Seg_20190628/03.Aneurysms/A002.P000684.T0001Aneurysms.mha\n",
      "an #:  1\n",
      "processing:  /data/maze/3D_An_Seg_20190628/03.Aneurysms/A002.P000696.T0001Aneurysms.mha\n",
      "an #:  1\n",
      "processing:  /data/maze/3D_An_Seg_20190628/03.Aneurysms/A002.P000707.T0001Aneurysms.mha\n",
      "an #:  1\n",
      "processing:  /data/maze/3D_An_Seg_20190628/03.Aneurysms/A002.P000709.T0001Aneurysms.mha\n",
      "an #:  1\n",
      "processing:  /data/maze/3D_An_Seg_20190628/03.Aneurysms/A002.P000723.T0001Aneurysms.mha\n",
      "an #:  1\n",
      "processing:  /data/maze/3D_An_Seg_20190628/03.Aneurysms/A002.P000738.T0001Aneurysms.mha\n",
      "an #:  1\n",
      "processing:  /data/maze/3D_An_Seg_20190628/03.Aneurysms/A002.P000753.T0001Aneurysms.mha\n",
      "an #:  1\n",
      "processing:  /data/maze/3D_An_Seg_20190628/03.Aneurysms/A002.P000757.T0001Aneurysms.mha\n",
      "an #:  1\n",
      "processing:  /data/maze/3D_An_Seg_20190628/03.Aneurysms/A002.P000766.T0001Aneurysms.mha\n",
      "an #:  1\n",
      "an #:  2\n",
      "processing:  /data/maze/3D_An_Seg_20190628/03.Aneurysms/A002.P000784.T0001Aneurysms.mha\n",
      "an #:  1\n",
      "an #:  2\n",
      "processing:  /data/maze/3D_An_Seg_20190628/03.Aneurysms/A002.P000795.T0001Aneurysms.mha\n",
      "an #:  1\n",
      "processing:  /data/maze/3D_An_Seg_20190628/03.Aneurysms/A002.P000802.T0001Aneurysms.mha\n",
      "an #:  1\n",
      "processing:  /data/maze/3D_An_Seg_20190628/03.Aneurysms/A002.P000021.T0002Aneurysms.mha\n",
      "an #:  1\n",
      "processing:  /data/maze/3D_An_Seg_20190628/03.Aneurysms/A002.P000031.T0002Aneurysms.mha\n",
      "an #:  1\n",
      "processing:  /data/maze/3D_An_Seg_20190628/03.Aneurysms/A002.P000031.T0005Aneurysms.mha\n",
      "an #:  1\n",
      "an #:  2\n",
      "processing:  /data/maze/3D_An_Seg_20190628/03.Aneurysms/A002.P000041.T0002Aneurysms.mha\n",
      "an #:  1\n",
      "an #:  2\n",
      "processing:  /data/maze/3D_An_Seg_20190628/03.Aneurysms/A002.P000051.T0002Aneurysms.mha\n",
      "an #:  1\n",
      "processing:  /data/maze/3D_An_Seg_20190628/03.Aneurysms/A002.P000071.T0001Aneurysms.mha\n"
     ]
    },
    {
     "name": "stdout",
     "output_type": "stream",
     "text": [
      "an #:  1\n",
      "an #:  2\n",
      "processing:  /data/maze/3D_An_Seg_20190628/03.Aneurysms/A002.P000091.T0001Aneurysms.mha\n",
      "an #:  1\n",
      "processing:  /data/maze/3D_An_Seg_20190628/03.Aneurysms/A002.P000131.T0002Aneurysms.mha\n",
      "an #:  1\n",
      "processing:  /data/maze/3D_An_Seg_20190628/03.Aneurysms/A002.P000161.T0002Aneurysms.mha\n",
      "an #:  1\n",
      "processing:  /data/maze/3D_An_Seg_20190628/03.Aneurysms/A002.P000191.T0001Aneurysms.mha\n",
      "an #:  1\n",
      "processing:  /data/maze/3D_An_Seg_20190628/03.Aneurysms/A002.P000191.T0002Aneurysms.mha\n",
      "an #:  1\n",
      "an #:  2\n",
      "processing:  /data/maze/3D_An_Seg_20190628/03.Aneurysms/A002.P000201.T0002Aneurysms.mha\n",
      "an #:  1\n",
      "processing:  /data/maze/3D_An_Seg_20190628/03.Aneurysms/A002.P000211.T0001Aneurysms.mha\n",
      "an #:  1\n",
      "processing:  /data/maze/3D_An_Seg_20190628/03.Aneurysms/A002.P000211.T0002Aneurysms.mha\n",
      "an #:  1\n",
      "processing:  /data/maze/3D_An_Seg_20190628/03.Aneurysms/A002.P000231.T0002Aneurysms.mha\n",
      "an #:  1\n",
      "processing:  /data/maze/3D_An_Seg_20190628/03.Aneurysms/A002.P000241.T0001Aneurysms.mha\n",
      "an #:  1\n",
      "processing:  /data/maze/3D_An_Seg_20190628/03.Aneurysms/A002.P000241.T0002Aneurysms.mha\n",
      "an #:  1\n",
      "processing:  /data/maze/3D_An_Seg_20190628/03.Aneurysms/A002.P000251.T0002Aneurysms.mha\n",
      "an #:  1\n",
      "processing:  /data/maze/3D_An_Seg_20190628/03.Aneurysms/A002.P000281.T0001Aneurysms.mha\n",
      "an #:  1\n",
      "processing:  /data/maze/3D_An_Seg_20190628/03.Aneurysms/A002.P000291.T0001Aneurysms.mha\n",
      "an #:  1\n",
      "processing:  /data/maze/3D_An_Seg_20190628/03.Aneurysms/A002.P000321.T0001Aneurysms.mha\n",
      "an #:  1\n",
      "processing:  /data/maze/3D_An_Seg_20190628/03.Aneurysms/A002.P000321.T0002Aneurysms.mha\n",
      "an #:  1\n",
      "processing:  /data/maze/3D_An_Seg_20190628/03.Aneurysms/A002.P000441.T0002Aneurysms.mha\n",
      "an #:  1\n",
      "an #:  2\n",
      "processing:  /data/maze/3D_An_Seg_20190628/03.Aneurysms/A002.P000741.T0002Aneurysms.mha\n",
      "an #:  1\n",
      "processing:  /data/maze/3D_An_Seg_20190628/03.Aneurysms/A002.P000010.T0001Aneurysms.mha\n",
      "an #:  1\n",
      "processing:  /data/maze/3D_An_Seg_20190628/03.Aneurysms/A002.P000030.T0001Aneurysms.mha\n",
      "an #:  1\n",
      "processing:  /data/maze/3D_An_Seg_20190628/03.Aneurysms/A002.P000070.T0001Aneurysms.mha\n",
      "an #:  1\n",
      "processing:  /data/maze/3D_An_Seg_20190628/03.Aneurysms/A002.P000090.T0001Aneurysms.mha\n",
      "an #:  1\n",
      "processing:  /data/maze/3D_An_Seg_20190628/03.Aneurysms/A002.P000110.T0001Aneurysms.mha\n",
      "an #:  1\n",
      "processing:  /data/maze/3D_An_Seg_20190628/03.Aneurysms/A002.P000140.T0001Aneurysms.mha\n",
      "an #:  1\n",
      "processing:  /data/maze/3D_An_Seg_20190628/03.Aneurysms/A002.P000150.T0001Aneurysms.mha\n",
      "an #:  1\n",
      "an #:  2\n",
      "processing:  /data/maze/3D_An_Seg_20190628/03.Aneurysms/A002.P000160.T0001Aneurysms.mha\n",
      "an #:  1\n",
      "processing:  /data/maze/3D_An_Seg_20190628/03.Aneurysms/A002.P000180.T0002Aneurysms.mha\n",
      "an #:  1\n",
      "processing:  /data/maze/3D_An_Seg_20190628/03.Aneurysms/A002.P000190.T0001Aneurysms.mha\n",
      "an #:  1\n",
      "processing:  /data/maze/3D_An_Seg_20190628/03.Aneurysms/A002.P000200.T0001Aneurysms.mha\n",
      "an #:  1\n",
      "processing:  /data/maze/3D_An_Seg_20190628/03.Aneurysms/A002.P000210.T0003Aneurysms.mha\n",
      "an #:  1\n",
      "processing:  /data/maze/3D_An_Seg_20190628/03.Aneurysms/A002.P000280.T0001Aneurysms.mha\n",
      "an #:  1\n",
      "processing:  /data/maze/3D_An_Seg_20190628/03.Aneurysms/A002.P000480.T0001Aneurysms.mha\n",
      "an #:  1\n",
      "processing:  /data/maze/3D_An_Seg_20190628/03.Aneurysms/A002.P000540.T0002Aneurysms.mha\n",
      "an #:  1\n",
      "processing:  /data/maze/3D_An_Seg_20190628/03.Aneurysms/A002.P000600.T0002Aneurysms.mha\n",
      "an #:  1\n",
      "processing:  /data/maze/3D_An_Seg_20190628/03.Aneurysms/A002.P000620.T0001Aneurysms.mha\n",
      "an #:  1\n",
      "processing:  /data/maze/3D_An_Seg_20190628/03.Aneurysms/A002.P000640.T0001Aneurysms.mha\n",
      "an #:  1\n",
      "processing:  /data/maze/3D_An_Seg_20190628/03.Aneurysms/A002.P000650.T0001Aneurysms.mha\n",
      "an #:  1\n",
      "processing:  /data/maze/3D_An_Seg_20190628/03.Aneurysms/A002.P000660.T0001Aneurysms.mha\n",
      "an #:  1\n",
      "processing:  /data/maze/3D_An_Seg_20190628/03.Aneurysms/A002.P000660.T0002Aneurysms.mha\n",
      "an #:  1\n",
      "x_train.npy  saved to:  /home/maze/USAL/libs/data\n",
      "labels_train.npy  saved to:  /home/maze/USAL/libs/data\n",
      "x_test.npy  saved to:  /home/maze/USAL/libs/data\n",
      "labels_test.npy  saved to:  /home/maze/USAL/libs/data\n",
      "x_val.npy  saved to:  /home/maze/USAL/libs/data\n",
      "labels_val.npy  saved to:  /home/maze/USAL/libs/data\n",
      "data_seperate.npy  saved to:  /home/maze/USAL/libs/data\n"
     ]
    }
   ],
   "source": [
    "image_path ='/data/maze/3D_An_Seg_20190628/01.CVAImage/'\n",
    "an_path = '/data/maze/3D_An_Seg_20190628/03.Aneurysms/'\n",
    "vessel_path = '/data/maze/3D_An_Seg_20190628/02.CVAVesselMask/'\n",
    "save_path = '/home/maze/USAL/libs/data'\n",
    "\n",
    "(x_train, labels_train), (x_test, labels_test), (x_val, labels_val), data_seperate = generate_data(ImageIo, NumpyIo, data_load_path, drop_data_list = drop_data_list, block_size = 64, save = True, save_path = save_path)"
   ]
  },
  {
   "cell_type": "markdown",
   "metadata": {},
   "source": [
    "### 第二批数据 20191202"
   ]
  },
  {
   "cell_type": "code",
   "execution_count": 1,
   "metadata": {},
   "outputs": [
    {
     "name": "stderr",
     "output_type": "stream",
     "text": [
      "Using TensorFlow backend.\n"
     ]
    }
   ],
   "source": [
    "from main import *"
   ]
  },
  {
   "cell_type": "code",
   "execution_count": null,
   "metadata": {
    "scrolled": true
   },
   "outputs": [
    {
     "name": "stdout",
     "output_type": "stream",
     "text": [
      "load img from the source dir:  /data/maze/04.AN-AI/01.CVAImage/\n",
      "A002.P000208 dropped!\n",
      "A003.P000143 dropped!\n",
      "load an from the source dir:  /data/maze/04.AN-AI/03.Aneurysms/\n",
      "A002.P000208 dropped!\n",
      "A003.P000143 dropped!\n",
      "load vessel from the source dir:  /data/maze/04.AN-AI/02.CVAVesselMask/\n",
      "A002.P000208 dropped!\n",
      "A003.P000143 dropped!\n",
      "processing:  /data/maze/04.AN-AI/03.Aneurysms/A002.P000002.D01.S003Aneurysms.mha\n",
      "an #:  1\n",
      "processing:  /data/maze/04.AN-AI/03.Aneurysms/A002.P000005.D01.S001Aneurysms.mha\n",
      "an #:  1\n",
      "processing:  /data/maze/04.AN-AI/03.Aneurysms/A002.P000006.D01.S001Aneurysms.mha\n",
      "an #:  1\n",
      "processing:  /data/maze/04.AN-AI/03.Aneurysms/A002.P000009.D01.S003Aneurysms.mha\n",
      "an #:  1\n",
      "processing:  /data/maze/04.AN-AI/03.Aneurysms/A002.P000012.D01.S001Aneurysms.mha\n",
      "an #:  1\n",
      "an #:  2\n",
      "processing:  /data/maze/04.AN-AI/03.Aneurysms/A002.P000018.D01.S001Aneurysms.mha\n",
      "an #:  1\n",
      "processing:  /data/maze/04.AN-AI/03.Aneurysms/A002.P000022.D01.S004Aneurysms.mha\n",
      "an #:  1\n",
      "processing:  /data/maze/04.AN-AI/03.Aneurysms/A002.P000023.D01.S004Aneurysms.mha\n",
      "an #:  1\n",
      "an #:  2\n",
      "processing:  /data/maze/04.AN-AI/03.Aneurysms/A002.P000024.D01.S002Aneurysms.mha\n",
      "an #:  1\n",
      "processing:  /data/maze/04.AN-AI/03.Aneurysms/A002.P000033.D01.S001Aneurysms.mha\n",
      "an #:  1\n",
      "an #:  2\n",
      "processing:  /data/maze/04.AN-AI/03.Aneurysms/A002.P000036.D01.S003Aneurysms.mha\n",
      "an #:  1\n",
      "an #:  2\n",
      "an #:  3\n",
      "processing:  /data/maze/04.AN-AI/03.Aneurysms/A002.P000037.D01.S001Aneurysms.mha\n",
      "an #:  1\n",
      "processing:  /data/maze/04.AN-AI/03.Aneurysms/A002.P000039.D01.S005Aneurysms.mha\n",
      "an #:  1\n",
      "an #:  2\n"
     ]
    }
   ],
   "source": [
    "image_path ='/data/maze/04.AN-AI/01.CVAImage/'\n",
    "an_path = '/data/maze/04.AN-AI/03.Aneurysms/'\n",
    "vessel_path = '/data/maze/04.AN-AI/02.CVAVesselMask/'\n",
    "save_path = '/home/maze/USAL/libs/new_data'\n",
    "\n",
    "(x_train, labels_train), (x_test, labels_test), (x_val, labels_val), data_seperate = generate_data(ImageIo, NumpyIo, image_path, an_path, vessel_path, drop_list, block_size = 64, save = True, save_path = save_path)"
   ]
  },
  {
   "cell_type": "code",
   "execution_count": 1,
   "metadata": {},
   "outputs": [
    {
     "name": "stderr",
     "output_type": "stream",
     "text": [
      "Using TensorFlow backend.\n"
     ]
    },
    {
     "name": "stdout",
     "output_type": "stream",
     "text": [
      "load img from the source dir:  /data/maze/04.AN-AI/01.CVAImage/\n",
      "/data/maze/04.AN-AI/01.CVAImage/A002.P000208.D01.S004CVAImage.mha  dropped!\n",
      "/data/maze/04.AN-AI/01.CVAImage/A003.P000143.D01.S001CVAImage.mha  dropped!\n",
      "load an from the source dir:  /data/maze/04.AN-AI/03.Aneurysms/\n",
      "/data/maze/04.AN-AI/03.Aneurysms/A002.P000208.D01.S004Aneurysms.mha  dropped!\n",
      "/data/maze/04.AN-AI/03.Aneurysms/A003.P000143.D01.S001Aneurysms.mha  dropped!\n",
      "load vessel from the source dir:  /data/maze/04.AN-AI/02.CVAVesselMask/\n",
      "/data/maze/04.AN-AI/02.CVAVesselMask/A002.P000208.D01.S004CVAVesselMask.mha  dropped!\n",
      "/data/maze/04.AN-AI/02.CVAVesselMask/A003.P000143.D01.S001CVAVesselMask.mha  dropped!\n",
      "processing:  /data/maze/04.AN-AI/03.Aneurysms/A002.P000002.D01.S003Aneurysms.mha\n",
      "an #:  1\n"
     ]
    }
   ],
   "source": [
    "from main import *\n",
    "import numpy as np\n",
    "\n",
    "image_path ='/data/maze/04.AN-AI/01.CVAImage/'\n",
    "an_path = '/data/maze/04.AN-AI/03.Aneurysms/'\n",
    "vessel_path = '/data/maze/04.AN-AI/02.CVAVesselMask/'\n",
    "save_path = '/home/maze/USAL/libs/new_data'\n",
    "\n",
    "drop_img_list = ['/data/maze/04.AN-AI/01.CVAImage/A002.P000208.D01.S004CVAImage.mha', \n",
    "            '/data/maze/04.AN-AI/01.CVAImage/A003.P000143.D01.S001CVAImage.mha']\n",
    "drop_an_list = ['/data/maze/04.AN-AI/03.Aneurysms/A002.P000208.D01.S004Aneurysms.mha', \n",
    "           '/data/maze/04.AN-AI/03.Aneurysms/A003.P000143.D01.S001Aneurysms.mha']\n",
    "drop_vessel_list = ['/data/maze/04.AN-AI/02.CVAVesselMask/A002.P000208.D01.S004CVAVesselMask.mha', \n",
    "              '/data/maze/04.AN-AI/02.CVAVesselMask/A003.P000143.D01.S001CVAVesselMask.mha']\n",
    "\n",
    "print('load img from the source dir: ', image_path)\n",
    "img_dir_list = get_file_dir_lists(image_path, drop_img_list)\n",
    "print('load an from the source dir: ', an_path)\n",
    "an_dir_list = get_file_dir_lists(an_path, drop_an_list)\n",
    "print('load vessel from the source dir: ', vessel_path)\n",
    "vessel_dir_list = get_file_dir_lists(vessel_path, drop_vessel_list)\n",
    "        \n",
    "img_train_list, img_val_list, img_test_list = split_dataset(img_list = img_dir_list, split_id = -22)\n",
    "an_train_list, an_val_list, an_test_list = split_dataset(img_list = an_dir_list, split_id = -23)\n",
    "vessel_train_list, vessel_val_list, vessel_test_list = split_dataset(img_list = vessel_dir_list, split_id = -27)\n",
    "        \n",
    "x_train = []\n",
    "labels_train = []\n",
    "x_test = []\n",
    "labels_test = []\n",
    "x_val = []\n",
    "labels_val = []\n",
    "data_seperate = []\n",
    "i = 0\n",
    "print('processing: ', an_train_list[i])\n",
    "# read the whole image, an_mask and vessel as array\n",
    "img_array = ImageIo().load(img_train_list[i])\n",
    "mask_array = ImageIo().load(an_train_list[i])\n",
    "vessel_array = ImageIo().load(vessel_train_list[i])\n",
    "\n",
    "\n",
    "small_img_list = []\n",
    "small_mask_list = []\n",
    "# normlization raw image array first\n",
    "img_array = img_norm(img_array, eps = 1e-7)\n",
    "# nums of An. 1 or 2 or 3\n",
    "an_nums = int(np.max(mask_array))\n",
    "for i in range(an_nums):\n",
    "    print('an #: ', str(i+1))\n",
    "    # all index for one an            \n",
    "    one_an_index = np.where(mask_array == (i+1))\n",
    "    one_an_array = np.array(one_an_index)    # tuple to array\n",
    "    one_an_array = np.transpose(one_an_array)    # transpose to (n, 3)\n",
    "    for j in range(len(one_an_array)):\n",
    "        x = one_an_array[j][0]\n",
    "        y = one_an_array[j][1]\n",
    "        z = one_an_array[j][2]\n",
    "        vessel_array[x, y, z] = 2\n",
    "    x_mean = get_label_mean(input_tuple = one_an_index, dim = 0)\n",
    "    y_mean = get_label_mean(input_tuple = one_an_index, dim = 1)\n",
    "    z_mean = get_label_mean(input_tuple = one_an_index, dim = 2)\n",
    "    one_an_center = [x_mean, y_mean, z_mean]\n",
    "    center_int = [int(round(j)) for j in one_an_center]"
   ]
  },
  {
   "cell_type": "code",
   "execution_count": 4,
   "metadata": {},
   "outputs": [
    {
     "data": {
      "text/plain": [
       "(array([199, 199, 199, ..., 218, 218, 218]),\n",
       " array([266, 266, 266, ..., 280, 281, 281]),\n",
       " array([116, 117, 118, ..., 118, 117, 118]))"
      ]
     },
     "execution_count": 4,
     "metadata": {},
     "output_type": "execute_result"
    }
   ],
   "source": [
    "one_an_index"
   ]
  },
  {
   "cell_type": "code",
   "execution_count": 5,
   "metadata": {},
   "outputs": [
    {
     "data": {
      "text/plain": [
       "array([[199, 266, 116],\n",
       "       [199, 266, 117],\n",
       "       [199, 266, 118],\n",
       "       ...,\n",
       "       [218, 280, 118],\n",
       "       [218, 281, 117],\n",
       "       [218, 281, 118]])"
      ]
     },
     "execution_count": 5,
     "metadata": {},
     "output_type": "execute_result"
    }
   ],
   "source": [
    "one_an_array"
   ]
  },
  {
   "cell_type": "code",
   "execution_count": 6,
   "metadata": {},
   "outputs": [
    {
     "name": "stdout",
     "output_type": "stream",
     "text": [
      "208.78095238095239 269.9013431013431 116.59804639804639\n"
     ]
    }
   ],
   "source": [
    "print(np.mean(one_an_index[0]), np.mean(one_an_index[1]), np.mean(one_an_index[2]))"
   ]
  },
  {
   "cell_type": "code",
   "execution_count": 8,
   "metadata": {},
   "outputs": [
    {
     "name": "stdout",
     "output_type": "stream",
     "text": [
      "[208.78095238 269.9013431  116.5980464 ]\n"
     ]
    }
   ],
   "source": [
    "print(np.mean(one_an_array, axis = 0))"
   ]
  },
  {
   "cell_type": "code",
   "execution_count": 10,
   "metadata": {},
   "outputs": [
    {
     "data": {
      "text/plain": [
       "numpy.ndarray"
      ]
     },
     "execution_count": 10,
     "metadata": {},
     "output_type": "execute_result"
    }
   ],
   "source": [
    "mean_dims = np.mean(one_an_array, axis = 0)\n",
    "type(mean_dims)"
   ]
  },
  {
   "cell_type": "code",
   "execution_count": 13,
   "metadata": {},
   "outputs": [],
   "source": [
    "mydict = {}\n",
    "for i in range(len(mean_dims)):\n",
    "    key = 'dim' + str(i+1)\n",
    "    value = mean_dims[i]\n",
    "    mydict.update({key: value})"
   ]
  },
  {
   "cell_type": "code",
   "execution_count": 14,
   "metadata": {},
   "outputs": [
    {
     "data": {
      "text/plain": [
       "{'dim1': 208.78095238095239,\n",
       " 'dim2': 269.9013431013431,\n",
       " 'dim3': 116.59804639804639}"
      ]
     },
     "execution_count": 14,
     "metadata": {},
     "output_type": "execute_result"
    }
   ],
   "source": [
    "mydict"
   ]
  },
  {
   "cell_type": "code",
   "execution_count": 15,
   "metadata": {},
   "outputs": [
    {
     "data": {
      "text/plain": [
       "208.78095238095239"
      ]
     },
     "execution_count": 15,
     "metadata": {},
     "output_type": "execute_result"
    }
   ],
   "source": [
    "mydict['dim1']"
   ]
  },
  {
   "cell_type": "code",
   "execution_count": 17,
   "metadata": {},
   "outputs": [],
   "source": [
    "drop_list = ['A003.P000143']\n",
    "drop_img_list = ['/data/maze/04.AN-AI/01.CVAImage/A002.P000208.D01.S004CVAImage.mha', \n",
    "            '/data/maze/04.AN-AI/01.CVAImage/A003.P000143.D01.S001CVAImage.mha']\n",
    "drop_an_list = ['/data/maze/04.AN-AI/03.Aneurysms/A002.P000208.D01.S004Aneurysms.mha', \n",
    "           '/data/maze/04.AN-AI/03.Aneurysms/A003.P000143.D01.S001Aneurysms.mha']\n",
    "drop_vessel_list = ['/data/maze/04.AN-AI/02.CVAVesselMask/A002.P000208.D01.S004CVAVesselMask.mha', \n",
    "              '/data/maze/04.AN-AI/02.CVAVesselMask/A003.P000143.D01.S001CVAVesselMask.mha']"
   ]
  },
  {
   "cell_type": "code",
   "execution_count": 18,
   "metadata": {},
   "outputs": [],
   "source": [
    "for name in drop_list:\n",
    "    for i in range(len(drop_img_list)):\n",
    "        if name in drop_img_list[i]:\n",
    "            drop_img_list.remove(drop_img_list[i])"
   ]
  },
  {
   "cell_type": "code",
   "execution_count": 21,
   "metadata": {},
   "outputs": [
    {
     "data": {
      "text/plain": [
       "['/data/maze/04.AN-AI/02.CVAVesselMask/A002.P000208.D01.S004CVAVesselMask.mha',\n",
       " '/data/maze/04.AN-AI/02.CVAVesselMask/A003.P000143.D01.S001CVAVesselMask.mha']"
      ]
     },
     "execution_count": 21,
     "metadata": {},
     "output_type": "execute_result"
    }
   ],
   "source": [
    "drop_vessel_list"
   ]
  },
  {
   "cell_type": "code",
   "execution_count": 26,
   "metadata": {},
   "outputs": [
    {
     "name": "stdout",
     "output_type": "stream",
     "text": [
      "ok\n"
     ]
    }
   ],
   "source": [
    "callbacks = 111\n",
    "if callbacks != None:\n",
    "    print('ok')\n",
    "elif callbacks == None:\n",
    "    print('no callbakcs')"
   ]
  },
  {
   "cell_type": "code",
   "execution_count": 52,
   "metadata": {},
   "outputs": [
    {
     "data": {
      "text/plain": [
       "3"
      ]
     },
     "execution_count": 52,
     "metadata": {},
     "output_type": "execute_result"
    }
   ],
   "source": [
    "import random\n",
    "random.randint(1,3)"
   ]
  },
  {
   "cell_type": "code",
   "execution_count": 59,
   "metadata": {},
   "outputs": [
    {
     "name": "stdout",
     "output_type": "stream",
     "text": [
      "yz\n",
      "xy\n",
      "xz\n",
      "xz\n",
      "yz\n",
      "xz\n",
      "xy\n",
      "xy\n",
      "xy\n",
      "xz\n"
     ]
    }
   ],
   "source": [
    "for i in range(0,10):\n",
    "    print(random.choice(['xy', 'yz', 'xz']))"
   ]
  },
  {
   "cell_type": "code",
   "execution_count": null,
   "metadata": {},
   "outputs": [],
   "source": []
  },
  {
   "cell_type": "code",
   "execution_count": null,
   "metadata": {},
   "outputs": [],
   "source": []
  },
  {
   "cell_type": "code",
   "execution_count": null,
   "metadata": {},
   "outputs": [],
   "source": []
  },
  {
   "cell_type": "markdown",
   "metadata": {},
   "source": [
    "### 测试2d_to_3d_image_generator"
   ]
  },
  {
   "cell_type": "code",
   "execution_count": 1,
   "metadata": {},
   "outputs": [
    {
     "name": "stderr",
     "output_type": "stream",
     "text": [
      "Using TensorFlow backend.\n"
     ]
    },
    {
     "name": "stdout",
     "output_type": "stream",
     "text": [
      "load  /home/maze/USAL/libs/new_data/x_train.npy  completed!\n",
      "load  /home/maze/USAL/libs/new_data/labels_train.npy  completed!\n",
      "load  /home/maze/USAL/libs/new_data/x_val.npy  completed!\n",
      "load  /home/maze/USAL/libs/new_data/labels_val.npy  completed!\n"
     ]
    }
   ],
   "source": [
    "import sys\n",
    "sys.path.append('/home/maze/USAL/libs/')\n",
    "import os\n",
    "import numpy as np\n",
    "import random\n",
    "from data_io.numpy_io import NumpyIo\n",
    "from mappers.generator_keras import keras_image_generator_2D\n",
    "from keras.utils import np_utils\n",
    "\n",
    "data_save_path = '/home/maze/USAL/libs/new_data'\n",
    "# load dataset\n",
    "numpyIo = NumpyIo()\n",
    "x_train = numpyIo.load(path = os.path.join(data_save_path, 'x_train.npy'))\n",
    "labels_train = numpyIo.load(path = os.path.join(data_save_path, 'labels_train.npy'))\n",
    "x_test = numpyIo.load(path = os.path.join(data_save_path, 'x_val.npy'))\n",
    "labels_test = numpyIo.load(path = os.path.join(data_save_path, 'labels_val.npy'))\n",
    "\n",
    "def image_generator_2Dto3D(data, label, input_generator, class_num, aug_planes = ['xy', 'zy', 'xz'], batch_size = 8, shuffle=True):  #Input dim (n,64,64,64)\n",
    "    data = np.squeeze(data)\n",
    "    xy_data = data\n",
    "    xy_label = label\n",
    "    xy_batch = input_generator.flow(xy_data, xy_label, batch_size=batch_size, shuffle = shuffle)\n",
    "    zy_data = data.transpose(0,3,2,1)\n",
    "    zy_label = label.transpose(0,3,2,1)\n",
    "    zy_batch = input_generator.flow(zy_data, zy_label, batch_size=batch_size, shuffle = shuffle)\n",
    "    xz_data = data.transpose(0,1,3,2)\n",
    "    xz_label = data.transpose(0,1,3,2)\n",
    "    xz_batch = input_generator.flow(xz_data, xz_label, batch_size=batch_size, shuffle = shuffle)\n",
    "    while True:\n",
    "        plane = random.choice(aug_planes)\n",
    "        if plane == 'xy' or plane == 'yx':\n",
    "            data_batch, label_batch = next(xy_batch)\n",
    "            yield(np.expand_dims(data_batch, axis=-1), np_utils.to_categorical(label_batch, class_num))\n",
    "        elif plane == 'yz' or plane == 'zy':\n",
    "            data_batch, label_batch = next(zy_batch)\n",
    "            data_batch = data_batch.transpose(0,3,2,1)\n",
    "            label_batch = label_batch.transpose(0,3,2,1)\n",
    "            yield(np.expand_dims(data_batch, axis=-1), np_utils.to_categorical(label_batch, class_num))\n",
    "        elif plane == 'xz' or plane == 'zx':\n",
    "            data_batch, label_batch = next(xz_batch)\n",
    "            data_batch = data_batch.transpose(0,1,3,2)\n",
    "            label_batch = label_batch.transpose(0,1,3,2)\n",
    "            yield(np.expand_dims(data_batch, axis=-1), np_utils.to_categorical(label_batch, class_num))"
   ]
  },
  {
   "cell_type": "code",
   "execution_count": 2,
   "metadata": {},
   "outputs": [],
   "source": [
    "keras_datagen = keras_image_generator_2D()\n",
    "gen = image_generator_2Dto3D(data = x_train, label = labels_train, input_generator = keras_datagen, class_num = 3)"
   ]
  },
  {
   "cell_type": "code",
   "execution_count": 3,
   "metadata": {},
   "outputs": [
    {
     "data": {
      "text/plain": [
       "<generator object image_generator_2Dto3D at 0x7f843c68f9e8>"
      ]
     },
     "execution_count": 3,
     "metadata": {},
     "output_type": "execute_result"
    }
   ],
   "source": [
    "gen"
   ]
  },
  {
   "cell_type": "code",
   "execution_count": 14,
   "metadata": {},
   "outputs": [
    {
     "name": "stdout",
     "output_type": "stream",
     "text": [
      "yz\n"
     ]
    }
   ],
   "source": [
    "(x, y) = next(gen)"
   ]
  },
  {
   "cell_type": "code",
   "execution_count": 28,
   "metadata": {},
   "outputs": [
    {
     "data": {
      "text/plain": [
       "(8, 64, 64, 64, 1)"
      ]
     },
     "execution_count": 28,
     "metadata": {},
     "output_type": "execute_result"
    }
   ],
   "source": [
    "x.shape"
   ]
  },
  {
   "cell_type": "code",
   "execution_count": 29,
   "metadata": {},
   "outputs": [
    {
     "data": {
      "text/plain": [
       "(8, 64, 64, 64, 3)"
      ]
     },
     "execution_count": 29,
     "metadata": {},
     "output_type": "execute_result"
    }
   ],
   "source": [
    "y.shape"
   ]
  },
  {
   "cell_type": "code",
   "execution_count": null,
   "metadata": {},
   "outputs": [],
   "source": []
  },
  {
   "cell_type": "code",
   "execution_count": 29,
   "metadata": {},
   "outputs": [],
   "source": [
    "A = ['dfdokef', 'need remove', 'keep this', 'dont ok', 'this fine', 'remove this', 'that good']\n",
    "B = ['ok', 'remove']"
   ]
  },
  {
   "cell_type": "code",
   "execution_count": 30,
   "metadata": {},
   "outputs": [
    {
     "name": "stdout",
     "output_type": "stream",
     "text": [
      "['need remove', 'keep this', 'this fine', 'remove this', 'that good']\n",
      "['keep this', 'this fine', 'that good']\n",
      "['keep this', 'this fine', 'that good']\n"
     ]
    }
   ],
   "source": [
    "for name in B:\n",
    "    A = list(filter(lambda x: (name not in x), A))\n",
    "    print(A)\n",
    "print(A)"
   ]
  },
  {
   "cell_type": "code",
   "execution_count": null,
   "metadata": {},
   "outputs": [],
   "source": []
  },
  {
   "cell_type": "code",
   "execution_count": null,
   "metadata": {},
   "outputs": [],
   "source": []
  },
  {
   "cell_type": "code",
   "execution_count": null,
   "metadata": {},
   "outputs": [],
   "source": []
  },
  {
   "cell_type": "code",
   "execution_count": null,
   "metadata": {},
   "outputs": [],
   "source": []
  }
 ],
 "metadata": {
  "kernelspec": {
   "display_name": "Python [conda env:tensorflow]",
   "language": "python",
   "name": "conda-env-tensorflow-py"
  },
  "language_info": {
   "codemirror_mode": {
    "name": "ipython",
    "version": 3
   },
   "file_extension": ".py",
   "mimetype": "text/x-python",
   "name": "python",
   "nbconvert_exporter": "python",
   "pygments_lexer": "ipython3",
   "version": "3.6.6"
  }
 },
 "nbformat": 4,
 "nbformat_minor": 2
}
